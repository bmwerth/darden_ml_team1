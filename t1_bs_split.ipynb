{
 "cells": [
  {
   "cell_type": "markdown",
   "metadata": {},
   "source": [
    "# Team 1 - Bike Sharing Code"
   ]
  },
  {
   "cell_type": "code",
   "execution_count": 2,
   "metadata": {},
   "outputs": [],
   "source": [
    "import numpy as np\n",
    "import pandas as pd\n",
    "from matplotlib import pyplot as plt\n",
    "import matplotlib as mpl\n",
    "import seaborn as sns\n",
    "import dill\n",
    "\n",
    "from sklearn.metrics import mean_absolute_error, mean_squared_error, r2_score, mean_squared_log_error, make_scorer\n",
    "from sklearn.impute import SimpleImputer\n",
    "from sklearn.tree import DecisionTreeRegressor, plot_tree\n",
    "from sklearn.ensemble import RandomForestRegressor\n",
    "from sklearn.model_selection import train_test_split, GridSearchCV\n",
    "from xgboost import XGBRegressor\n",
    "\n",
    "# Set number of CPU cores for parallel algorithms\n",
    "import os\n",
    "if \"CPU_LIMIT\" in os.environ:\n",
    "    # If you are on JupyterHub, this gives you the right number of CPUs for your virtual machine\n",
    "    num_cpus = int(os.getenv(\"CPU_LIMIT\").split('.')[0])\n",
    "else:\n",
    "    # If you are not on JupyterHub, this gives you the right number for your computer.\n",
    "    num_cpus = os.cpu_count()"
   ]
  },
  {
   "cell_type": "code",
   "execution_count": 3,
   "metadata": {},
   "outputs": [],
   "source": [
    "# This sets some nicer defaults for plotting.\n",
    "# This must be run in a separate cell from importing matplotlib due to a bug.\n",
    "params = {'legend.fontsize': 'large',\n",
    "          'figure.figsize': (11.0, 11.0),\n",
    "          'axes.labelsize': 'x-large',\n",
    "          'axes.titlesize':'xx-large',\n",
    "          'xtick.labelsize':'large',\n",
    "          'ytick.labelsize':'large'}\n",
    "mpl.rcParams.update(params)\n",
    "\n",
    "# This makes it so that the pandas dataframes don't get truncated horizontally.\n",
    "pd.options.display.max_columns = 200"
   ]
  },
  {
   "cell_type": "markdown",
   "metadata": {},
   "source": [
    "# Read in and manipulate the data "
   ]
  },
  {
   "cell_type": "code",
   "execution_count": 4,
   "metadata": {
    "scrolled": true
   },
   "outputs": [],
   "source": [
    "train_df = pd.read_csv('train.csv') \n",
    "test_df = pd.read_csv('test.csv')"
   ]
  },
  {
   "cell_type": "code",
   "execution_count": 5,
   "metadata": {},
   "outputs": [],
   "source": [
    "def summarize_dataframe(df):\n",
    "    missing_values = pd.concat([pd.DataFrame(df.columns, columns=['Variable Name']), \n",
    "                      pd.DataFrame(df.dtypes.values.reshape([-1,1]), columns=['Data Type']),\n",
    "                      pd.DataFrame(df.isnull().sum().values, columns=['Missing Values']), \n",
    "                      pd.DataFrame([df[name].nunique() for name in df.columns], columns=['Unique Values'])], \n",
    "                     axis=1).set_index('Variable Name')\n",
    "    return pd.concat([missing_values, df.describe(include='all').transpose()], axis=1).fillna(\"\")"
   ]
  },
  {
   "cell_type": "code",
   "execution_count": 8,
   "metadata": {},
   "outputs": [],
   "source": [
    "train_df['datetime'] = pd.to_datetime(train_df['datetime'])\n",
    "test_df['datetime'] = pd.to_datetime(test_df['datetime'])"
   ]
  },
  {
   "cell_type": "markdown",
   "metadata": {},
   "source": [
    "# Feature Engineering and Variable Selection"
   ]
  },
  {
   "cell_type": "markdown",
   "metadata": {},
   "source": [
    "From the datetime column, we extract year, month, hour, and day of week (DOW), and then add these features to the data frames as new variables. Remember, anything we do to the training data set, we are also going to want to do to the testing data set so that our test data looks similar to our training data come test time."
   ]
  },
  {
   "cell_type": "code",
   "execution_count": 9,
   "metadata": {},
   "outputs": [],
   "source": [
    "train_df['year'] = train_df['datetime'].dt.year\n",
    "train_df['month'] = train_df['datetime'].dt.month\n",
    "train_df['hour'] = train_df['datetime'].dt.hour\n",
    "train_df['DOW'] = train_df['datetime'].dt.dayofweek\n",
    "\n",
    "test_df['year'] = test_df['datetime'].dt.year\n",
    "test_df['month'] = test_df['datetime'].dt.month\n",
    "test_df['hour'] = test_df['datetime'].dt.hour\n",
    "test_df['DOW'] = test_df['datetime'].dt.dayofweek"
   ]
  },
  {
   "cell_type": "code",
   "execution_count": 10,
   "metadata": {},
   "outputs": [
    {
     "data": {
      "text/html": [
       "<div>\n",
       "<style scoped>\n",
       "    .dataframe tbody tr th:only-of-type {\n",
       "        vertical-align: middle;\n",
       "    }\n",
       "\n",
       "    .dataframe tbody tr th {\n",
       "        vertical-align: top;\n",
       "    }\n",
       "\n",
       "    .dataframe thead th {\n",
       "        text-align: right;\n",
       "    }\n",
       "</style>\n",
       "<table border=\"1\" class=\"dataframe\">\n",
       "  <thead>\n",
       "    <tr style=\"text-align: right;\">\n",
       "      <th></th>\n",
       "      <th>temp</th>\n",
       "      <th>atemp</th>\n",
       "      <th>weather</th>\n",
       "      <th>humidity</th>\n",
       "      <th>windspeed</th>\n",
       "    </tr>\n",
       "  </thead>\n",
       "  <tbody>\n",
       "    <tr>\n",
       "      <th>temp</th>\n",
       "      <td>1.000000</td>\n",
       "      <td>0.984948</td>\n",
       "      <td>-0.055035</td>\n",
       "      <td>-0.064949</td>\n",
       "      <td>-0.017852</td>\n",
       "    </tr>\n",
       "    <tr>\n",
       "      <th>atemp</th>\n",
       "      <td>0.984948</td>\n",
       "      <td>1.000000</td>\n",
       "      <td>-0.055376</td>\n",
       "      <td>-0.043536</td>\n",
       "      <td>-0.057473</td>\n",
       "    </tr>\n",
       "    <tr>\n",
       "      <th>weather</th>\n",
       "      <td>-0.055035</td>\n",
       "      <td>-0.055376</td>\n",
       "      <td>1.000000</td>\n",
       "      <td>0.406244</td>\n",
       "      <td>0.007261</td>\n",
       "    </tr>\n",
       "    <tr>\n",
       "      <th>humidity</th>\n",
       "      <td>-0.064949</td>\n",
       "      <td>-0.043536</td>\n",
       "      <td>0.406244</td>\n",
       "      <td>1.000000</td>\n",
       "      <td>-0.318607</td>\n",
       "    </tr>\n",
       "    <tr>\n",
       "      <th>windspeed</th>\n",
       "      <td>-0.017852</td>\n",
       "      <td>-0.057473</td>\n",
       "      <td>0.007261</td>\n",
       "      <td>-0.318607</td>\n",
       "      <td>1.000000</td>\n",
       "    </tr>\n",
       "  </tbody>\n",
       "</table>\n",
       "</div>"
      ],
      "text/plain": [
       "               temp     atemp   weather  humidity  windspeed\n",
       "temp       1.000000  0.984948 -0.055035 -0.064949  -0.017852\n",
       "atemp      0.984948  1.000000 -0.055376 -0.043536  -0.057473\n",
       "weather   -0.055035 -0.055376  1.000000  0.406244   0.007261\n",
       "humidity  -0.064949 -0.043536  0.406244  1.000000  -0.318607\n",
       "windspeed -0.017852 -0.057473  0.007261 -0.318607   1.000000"
      ]
     },
     "execution_count": 10,
     "metadata": {},
     "output_type": "execute_result"
    }
   ],
   "source": [
    "train_df[['temp', 'atemp', 'weather', 'humidity', 'windspeed']].corr()"
   ]
  },
  {
   "cell_type": "code",
   "execution_count": 11,
   "metadata": {},
   "outputs": [
    {
     "data": {
      "text/html": [
       "<div>\n",
       "<style scoped>\n",
       "    .dataframe tbody tr th:only-of-type {\n",
       "        vertical-align: middle;\n",
       "    }\n",
       "\n",
       "    .dataframe tbody tr th {\n",
       "        vertical-align: top;\n",
       "    }\n",
       "\n",
       "    .dataframe thead th {\n",
       "        text-align: right;\n",
       "    }\n",
       "</style>\n",
       "<table border=\"1\" class=\"dataframe\">\n",
       "  <thead>\n",
       "    <tr style=\"text-align: right;\">\n",
       "      <th></th>\n",
       "      <th>month</th>\n",
       "      <th>season</th>\n",
       "    </tr>\n",
       "  </thead>\n",
       "  <tbody>\n",
       "    <tr>\n",
       "      <th>month</th>\n",
       "      <td>1.000000</td>\n",
       "      <td>0.971524</td>\n",
       "    </tr>\n",
       "    <tr>\n",
       "      <th>season</th>\n",
       "      <td>0.971524</td>\n",
       "      <td>1.000000</td>\n",
       "    </tr>\n",
       "  </tbody>\n",
       "</table>\n",
       "</div>"
      ],
      "text/plain": [
       "           month    season\n",
       "month   1.000000  0.971524\n",
       "season  0.971524  1.000000"
      ]
     },
     "execution_count": 11,
     "metadata": {},
     "output_type": "execute_result"
    }
   ],
   "source": [
    "train_df[['month', 'season']].corr()"
   ]
  },
  {
   "cell_type": "code",
   "execution_count": 12,
   "metadata": {},
   "outputs": [
    {
     "data": {
      "text/html": [
       "<div>\n",
       "<style scoped>\n",
       "    .dataframe tbody tr th:only-of-type {\n",
       "        vertical-align: middle;\n",
       "    }\n",
       "\n",
       "    .dataframe tbody tr th {\n",
       "        vertical-align: top;\n",
       "    }\n",
       "\n",
       "    .dataframe thead th {\n",
       "        text-align: right;\n",
       "    }\n",
       "</style>\n",
       "<table border=\"1\" class=\"dataframe\">\n",
       "  <thead>\n",
       "    <tr style=\"text-align: right;\">\n",
       "      <th></th>\n",
       "      <th>DOW</th>\n",
       "      <th>workingday</th>\n",
       "    </tr>\n",
       "  </thead>\n",
       "  <tbody>\n",
       "    <tr>\n",
       "      <th>DOW</th>\n",
       "      <td>1.000000</td>\n",
       "      <td>-0.704267</td>\n",
       "    </tr>\n",
       "    <tr>\n",
       "      <th>workingday</th>\n",
       "      <td>-0.704267</td>\n",
       "      <td>1.000000</td>\n",
       "    </tr>\n",
       "  </tbody>\n",
       "</table>\n",
       "</div>"
      ],
      "text/plain": [
       "                 DOW  workingday\n",
       "DOW         1.000000   -0.704267\n",
       "workingday -0.704267    1.000000"
      ]
     },
     "execution_count": 12,
     "metadata": {},
     "output_type": "execute_result"
    }
   ],
   "source": [
    "train_df[['DOW', 'workingday']].corr()"
   ]
  },
  {
   "cell_type": "code",
   "execution_count": 123,
   "metadata": {},
   "outputs": [],
   "source": [
    "ind_variables_selected_reg = ['workingday', 'atemp', 'year', 'month', 'hour', 'DOW', 'holiday', 'weather']\n",
    "ind_variables_selected_cas = ['workingday', 'atemp', 'hour', 'DOW', 'humidity', 'windspeed', 'weather', 'holiday']"
   ]
  },
  {
   "cell_type": "code",
   "execution_count": 124,
   "metadata": {},
   "outputs": [],
   "source": [
    "X_orig_train_reg = train_df[ind_variables_selected_reg]\n",
    "X_orig_train_cas = train_df[ind_variables_selected_cas]\n",
    "y_orig_train_reg = train_df['registered']\n",
    "y_orig_train_cas = train_df['casual']\n",
    "y_orig_train = train_df['count']"
   ]
  },
  {
   "cell_type": "code",
   "execution_count": 125,
   "metadata": {},
   "outputs": [],
   "source": [
    "X_test_reg = test_df[ind_variables_selected_reg]\n",
    "X_test_cas = test_df[ind_variables_selected_cas]"
   ]
  },
  {
   "cell_type": "markdown",
   "metadata": {},
   "source": [
    "#  Create smaller training and validation sets"
   ]
  },
  {
   "cell_type": "code",
   "execution_count": 126,
   "metadata": {},
   "outputs": [],
   "source": [
    "X_train_reg, X_valid_reg, y_train_reg, y_valid_reg = train_test_split(X_orig_train_reg, y_orig_train_reg, test_size = 0.25, random_state = 201)\n",
    "X_train_cas, X_valid_cas, y_train_cas, y_valid_cas = train_test_split(X_orig_train_cas, y_orig_train_cas, test_size = 0.25, random_state = 201)\n",
    "X_train, X_valid, y_train, y_valid = train_test_split(X_orig_train, y_orig_train, test_size = 0.25, random_state = 201)"
   ]
  },
  {
   "cell_type": "markdown",
   "metadata": {},
   "source": [
    "# Set Up the Evaluation Metric"
   ]
  },
  {
   "cell_type": "markdown",
   "metadata": {},
   "source": [
    "Kaggle uses Root Mean Squared Logarithmic Error (RMSLE) for scoring (or evaluation). See this link for details: https://www.kaggle.com/c/bike-sharing-demand/details/evaluation. Why do they choose RMSLE and not RMSE? Below is a function for calculating RMSLE. The clip method truncates values below 0."
   ]
  },
  {
   "cell_type": "code",
   "execution_count": 119,
   "metadata": {},
   "outputs": [],
   "source": [
    "def RMSLE(y_true, y_pred):\n",
    "    y_pred_use = y_pred.clip(0)\n",
    "    rmsle = mean_squared_log_error(y_true, y_pred_use)**(1/2)\n",
    "    return rmsle"
   ]
  },
  {
   "cell_type": "code",
   "execution_count": 120,
   "metadata": {},
   "outputs": [],
   "source": [
    "def accuracy(y_true, y_pred):\n",
    "    \"\"\"Function that returns a table showing RMSE and MAE.\"\"\"\n",
    "    acc_df = pd.DataFrame(data = {\"RMSE\": [mean_squared_error(y_true, y_pred)**(1/2)],\n",
    "                                  \"MAE\": [mean_absolute_error(y_true, y_pred)],\n",
    "                                  \"R^2\": [r2_score(y_true, y_pred)],\n",
    "                                  \"RMSLE\": [RMSLE(y_true, y_pred)]})\n",
    "    display(acc_df.style.hide(axis='index'))"
   ]
  },
  {
   "cell_type": "markdown",
   "metadata": {},
   "source": [
    "# Regression Tree Parameter Description"
   ]
  },
  {
   "cell_type": "markdown",
   "metadata": {},
   "source": [
    "A regression tree is a way to successively split the data into smaller and smaller subgroups, and then use the average of the data in each subgroup to make predictions."
   ]
  },
  {
   "cell_type": "markdown",
   "metadata": {},
   "source": [
    "A regression tree has a few possible parameters that can be tuned.\n",
    "  * `max_depth`: This sets the maximum number of splits between the top of the tree and any leaf. A smaller number means a smaller tree, and therefore a tree that is less likely to overfit.\n",
    "  * `min_samples_split`: This sets the number of samples that must be in a leaf for the leaf to be a candidate for a split. A larger number means a smaller tree. This must be greater than or equal to 2.\n",
    "  * `min_samples_leaf`: This is identical to `min_samples_split`, but this is how many samples have to be left in each leaf after the split. This must be greater than or equal to 1. Generally, you tune either `min_samples_leaf` or `min_samples_split`, not both. They do such similar things that it is quite redundant.\n",
    "  * `max_features`: This is a parameter that tunes how many features a regression tree will consider when it is splitting a node. A value between 0 and 1 will tell it to use only a random fraction of the possible nodes when it's considering a split. E.g., if you have 10 variables, and you set this to `.3`, then each time the algorithm is deciding to split a leaf, it will pick three random variables and only select from one of those. This will keep a tree from focusing too heavily on certain variables by forcing it to include information from other variables in the decision process. A smaller value means a tree that is generally less likely to overfit. If you set it to `None`, then it will consider all variables at each split (this is the default).\n",
    "  * `min_impurity_decrease`: This parameter sets how much the evaluation criteria has to go down before it will split a node. A larger value means there is a higher threshold before a node can be split, so this will lead to a smaller (and less overfit) tree.\n",
    "  * `ccp_alpha`: This is the _cost complexity pruning alpha_. The higher the `ccp_alpha`, the more pruning will happen on the tree and the more regularized the tree will be. The default value is `0`, which implies that the tree will not be pruned. Another discussion can be found [here](https://scikit-learn.org/stable/modules/tree.html#minimal-cost-complexity-pruning).\n",
    "\n",
    "It is very helpful to play around with these parameters to get a sense for what they do. For more information, you can find the documenation for the `sklearn` implementation of `DecisionTreeRegressor` [here](https://scikit-learn.org/stable/modules/generated/sklearn.tree.DecisionTreeRegressor.html). Note that you don't have to set all of these parameters. They have default values, and you can leave them at the default."
   ]
  },
  {
   "cell_type": "code",
   "execution_count": 49,
   "metadata": {},
   "outputs": [],
   "source": [
    "def get_tree_importances(model, data):\n",
    "    return pd.DataFrame({'Importance': model.feature_importances_}, index=data.columns).sort_values(['Importance'], ascending=False)"
   ]
  },
  {
   "cell_type": "markdown",
   "metadata": {},
   "source": [
    "# Fit a random forest"
   ]
  },
  {
   "cell_type": "markdown",
   "metadata": {},
   "source": [
    "A random forest is just the average of a bunch of regression trees. Given that the random forest fits a bunch of regression trees, it has all of the same parameters as a regression tree (since each regression tree must individually be fit), but some of them take on more importance. With a regression tree, we need to tune the tree so that the single one we have does really well. With a random forest, the goal is to have them do well on average (take advantage of the wisdom of crowds), so we likely will want each of our individual trees to be significantly simpler in our random forest then with the regression tree. We also want our trees to be diverse (i.e., we don't want them all to make the same mistakes). The best way to do that is to force them to use different features using the `max_features` parameter. While we can tune `max_features` for an individual regression tree, it becomes much more important for a random forest.\n",
    "\n",
    "The random forest has one additional parameter that the regression tree doesn't have, `n_estimators`, or the number of trees in the forest. Do you need to worry about overfitting if you have too many trees? Think about this and come to class prepared to discuss.\n",
    "\n",
    "We will also set a parameter called `n_jobs` which is just the number of trees it can train simultaneously. This should be set to the number of cpu cores you have access to, which we assigned to the variable `num_cpus` earlier in the notebook.\n",
    "\n",
    "<img src=\"images/Random_Forest.png\" width=\"600\"/>"
   ]
  },
  {
   "cell_type": "code",
   "execution_count": 50,
   "metadata": {},
   "outputs": [
    {
     "data": {
      "text/html": [
       "<style type=\"text/css\">\n",
       "</style>\n",
       "<table id=\"T_923fd\">\n",
       "  <thead>\n",
       "    <tr>\n",
       "      <th id=\"T_923fd_level0_col0\" class=\"col_heading level0 col0\" >RMSE</th>\n",
       "      <th id=\"T_923fd_level0_col1\" class=\"col_heading level0 col1\" >MAE</th>\n",
       "      <th id=\"T_923fd_level0_col2\" class=\"col_heading level0 col2\" >R^2</th>\n",
       "      <th id=\"T_923fd_level0_col3\" class=\"col_heading level0 col3\" >RMSLE</th>\n",
       "    </tr>\n",
       "  </thead>\n",
       "  <tbody>\n",
       "    <tr>\n",
       "      <td id=\"T_923fd_row0_col0\" class=\"data row0 col0\" >46.182666</td>\n",
       "      <td id=\"T_923fd_row0_col1\" class=\"data row0 col1\" >28.806316</td>\n",
       "      <td id=\"T_923fd_row0_col2\" class=\"data row0 col2\" >0.905160</td>\n",
       "      <td id=\"T_923fd_row0_col3\" class=\"data row0 col3\" >0.542933</td>\n",
       "    </tr>\n",
       "  </tbody>\n",
       "</table>\n"
      ],
      "text/plain": [
       "<pandas.io.formats.style.Styler at 0x7f220fb44f90>"
      ]
     },
     "metadata": {},
     "output_type": "display_data"
    },
    {
     "name": "stdout",
     "output_type": "stream",
     "text": [
      "CPU times: user 10.3 s, sys: 52.3 ms, total: 10.4 s\n",
      "Wall time: 5.34 s\n"
     ]
    }
   ],
   "source": [
    "%%time\n",
    "rf = RandomForestRegressor(n_estimators=500,\n",
    "                           max_features=6,\n",
    "                           min_samples_leaf=2,\n",
    "                           random_state=201,\n",
    "                           ccp_alpha=8,\n",
    "                           n_jobs=num_cpus)\n",
    "\n",
    "rf_model_reg = rf.fit(X_train_reg, y_train_reg)\n",
    "rf_pred_reg = rf_model_reg.predict(X_valid_reg)\n",
    "accuracy(y_valid_reg, rf_pred_reg)"
   ]
  },
  {
   "cell_type": "code",
   "execution_count": 51,
   "metadata": {},
   "outputs": [
    {
     "data": {
      "text/html": [
       "<style type=\"text/css\">\n",
       "</style>\n",
       "<table id=\"T_850de\">\n",
       "  <thead>\n",
       "    <tr>\n",
       "      <th id=\"T_850de_level0_col0\" class=\"col_heading level0 col0\" >RMSE</th>\n",
       "      <th id=\"T_850de_level0_col1\" class=\"col_heading level0 col1\" >MAE</th>\n",
       "      <th id=\"T_850de_level0_col2\" class=\"col_heading level0 col2\" >R^2</th>\n",
       "      <th id=\"T_850de_level0_col3\" class=\"col_heading level0 col3\" >RMSLE</th>\n",
       "    </tr>\n",
       "  </thead>\n",
       "  <tbody>\n",
       "    <tr>\n",
       "      <td id=\"T_850de_row0_col0\" class=\"data row0 col0\" >23.335553</td>\n",
       "      <td id=\"T_850de_row0_col1\" class=\"data row0 col1\" >14.452294</td>\n",
       "      <td id=\"T_850de_row0_col2\" class=\"data row0 col2\" >0.779483</td>\n",
       "      <td id=\"T_850de_row0_col3\" class=\"data row0 col3\" >0.920428</td>\n",
       "    </tr>\n",
       "  </tbody>\n",
       "</table>\n"
      ],
      "text/plain": [
       "<pandas.io.formats.style.Styler at 0x7f220e109950>"
      ]
     },
     "metadata": {},
     "output_type": "display_data"
    },
    {
     "name": "stdout",
     "output_type": "stream",
     "text": [
      "CPU times: user 10.9 s, sys: 96.9 ms, total: 11 s\n",
      "Wall time: 5.64 s\n"
     ]
    }
   ],
   "source": [
    "%%time\n",
    "rf1 = RandomForestRegressor(n_estimators=600,\n",
    "                           max_features=4,\n",
    "                           min_samples_leaf=2,\n",
    "                           random_state=201,\n",
    "                           ccp_alpha=8,\n",
    "                           n_jobs=num_cpus)\n",
    "\n",
    "rf_model_cas = rf1.fit(X_train_cas, y_train_cas)\n",
    "rf_pred_cas = rf_model_cas.predict(X_valid_cas)\n",
    "accuracy(y_valid_cas, rf_pred_cas)"
   ]
  },
  {
   "cell_type": "markdown",
   "metadata": {},
   "source": [
    "We can plot the importance just like with a regression tree."
   ]
  },
  {
   "cell_type": "code",
   "execution_count": 52,
   "metadata": {},
   "outputs": [
    {
     "data": {
      "text/html": [
       "<div>\n",
       "<style scoped>\n",
       "    .dataframe tbody tr th:only-of-type {\n",
       "        vertical-align: middle;\n",
       "    }\n",
       "\n",
       "    .dataframe tbody tr th {\n",
       "        vertical-align: top;\n",
       "    }\n",
       "\n",
       "    .dataframe thead th {\n",
       "        text-align: right;\n",
       "    }\n",
       "</style>\n",
       "<table border=\"1\" class=\"dataframe\">\n",
       "  <thead>\n",
       "    <tr style=\"text-align: right;\">\n",
       "      <th></th>\n",
       "      <th>Importance</th>\n",
       "    </tr>\n",
       "  </thead>\n",
       "  <tbody>\n",
       "    <tr>\n",
       "      <th>hour</th>\n",
       "      <td>0.616070</td>\n",
       "    </tr>\n",
       "    <tr>\n",
       "      <th>workingday</th>\n",
       "      <td>0.127991</td>\n",
       "    </tr>\n",
       "    <tr>\n",
       "      <th>year</th>\n",
       "      <td>0.098409</td>\n",
       "    </tr>\n",
       "    <tr>\n",
       "      <th>month</th>\n",
       "      <td>0.070040</td>\n",
       "    </tr>\n",
       "    <tr>\n",
       "      <th>atemp</th>\n",
       "      <td>0.044590</td>\n",
       "    </tr>\n",
       "    <tr>\n",
       "      <th>DOW</th>\n",
       "      <td>0.042900</td>\n",
       "    </tr>\n",
       "  </tbody>\n",
       "</table>\n",
       "</div>"
      ],
      "text/plain": [
       "            Importance\n",
       "hour          0.616070\n",
       "workingday    0.127991\n",
       "year          0.098409\n",
       "month         0.070040\n",
       "atemp         0.044590\n",
       "DOW           0.042900"
      ]
     },
     "execution_count": 52,
     "metadata": {},
     "output_type": "execute_result"
    }
   ],
   "source": [
    "get_tree_importances(rf, X_train_reg)"
   ]
  },
  {
   "cell_type": "code",
   "execution_count": 53,
   "metadata": {},
   "outputs": [
    {
     "data": {
      "text/html": [
       "<div>\n",
       "<style scoped>\n",
       "    .dataframe tbody tr th:only-of-type {\n",
       "        vertical-align: middle;\n",
       "    }\n",
       "\n",
       "    .dataframe tbody tr th {\n",
       "        vertical-align: top;\n",
       "    }\n",
       "\n",
       "    .dataframe thead th {\n",
       "        text-align: right;\n",
       "    }\n",
       "</style>\n",
       "<table border=\"1\" class=\"dataframe\">\n",
       "  <thead>\n",
       "    <tr style=\"text-align: right;\">\n",
       "      <th></th>\n",
       "      <th>Importance</th>\n",
       "    </tr>\n",
       "  </thead>\n",
       "  <tbody>\n",
       "    <tr>\n",
       "      <th>hour</th>\n",
       "      <td>0.365535</td>\n",
       "    </tr>\n",
       "    <tr>\n",
       "      <th>atemp</th>\n",
       "      <td>0.338143</td>\n",
       "    </tr>\n",
       "    <tr>\n",
       "      <th>workingday</th>\n",
       "      <td>0.168429</td>\n",
       "    </tr>\n",
       "    <tr>\n",
       "      <th>DOW</th>\n",
       "      <td>0.068303</td>\n",
       "    </tr>\n",
       "    <tr>\n",
       "      <th>humidity</th>\n",
       "      <td>0.059590</td>\n",
       "    </tr>\n",
       "  </tbody>\n",
       "</table>\n",
       "</div>"
      ],
      "text/plain": [
       "            Importance\n",
       "hour          0.365535\n",
       "atemp         0.338143\n",
       "workingday    0.168429\n",
       "DOW           0.068303\n",
       "humidity      0.059590"
      ]
     },
     "execution_count": 53,
     "metadata": {},
     "output_type": "execute_result"
    }
   ],
   "source": [
    "get_tree_importances(rf1, X_train_cas)"
   ]
  },
  {
   "cell_type": "markdown",
   "metadata": {},
   "source": [
    "Let's plot the predictions versus the actual realizations."
   ]
  },
  {
   "cell_type": "code",
   "execution_count": 54,
   "metadata": {},
   "outputs": [
    {
     "data": {
      "image/png": "[encoded data removed]",
      "text/plain": [
       "<Figure size 600x600 with 1 Axes>"
      ]
     },
     "metadata": {},
     "output_type": "display_data"
    }
   ],
   "source": [
    "plt.figure(figsize=(6,6))\n",
    "plt.scatter(rf_pred_reg, y_valid_reg, s = 0.2)\n",
    "plt.xlim(-100, 1200)\n",
    "plt.ylim(-100, 1200)\n",
    "plt.plot([-100, 1200], [-100, 1200], color='r', linestyle='-', linewidth=2)\n",
    "plt.suptitle('Predicted vs Actual', fontsize=20)\n",
    "plt.xlabel('rf_pred', fontsize=18)\n",
    "plt.ylabel('y_valid', fontsize=18)\n",
    "plt.show()"
   ]
  },
  {
   "cell_type": "markdown",
   "metadata": {},
   "source": [
    "What is the accuracy of the model?"
   ]
  },
  {
   "cell_type": "code",
   "execution_count": 55,
   "metadata": {},
   "outputs": [
    {
     "data": {
      "text/html": [
       "<style type=\"text/css\">\n",
       "</style>\n",
       "<table id=\"T_5a0d6\">\n",
       "  <thead>\n",
       "    <tr>\n",
       "      <th id=\"T_5a0d6_level0_col0\" class=\"col_heading level0 col0\" >RMSE</th>\n",
       "      <th id=\"T_5a0d6_level0_col1\" class=\"col_heading level0 col1\" >MAE</th>\n",
       "      <th id=\"T_5a0d6_level0_col2\" class=\"col_heading level0 col2\" >R^2</th>\n",
       "      <th id=\"T_5a0d6_level0_col3\" class=\"col_heading level0 col3\" >RMSLE</th>\n",
       "    </tr>\n",
       "  </thead>\n",
       "  <tbody>\n",
       "    <tr>\n",
       "      <td id=\"T_5a0d6_row0_col0\" class=\"data row0 col0\" >56.782440</td>\n",
       "      <td id=\"T_5a0d6_row0_col1\" class=\"data row0 col1\" >36.865976</td>\n",
       "      <td id=\"T_5a0d6_row0_col2\" class=\"data row0 col2\" >0.900820</td>\n",
       "      <td id=\"T_5a0d6_row0_col3\" class=\"data row0 col3\" >0.594043</td>\n",
       "    </tr>\n",
       "  </tbody>\n",
       "</table>\n"
      ],
      "text/plain": [
       "<pandas.io.formats.style.Styler at 0x7f220c4e1d50>"
      ]
     },
     "metadata": {},
     "output_type": "display_data"
    }
   ],
   "source": [
    "rf_pred = rf_pred_cas + rf_pred_reg\n",
    "accuracy(y_valid, rf_pred)"
   ]
  },
  {
   "cell_type": "markdown",
   "metadata": {},
   "source": [
    "# Fit a boosted trees model"
   ]
  },
  {
   "cell_type": "markdown",
   "metadata": {},
   "source": [
    "A boosted tree iteratively fits trees where each tree tries to correct the errors of all of the previous trees (summed together). This is a very powerful machine learning technique. Boosted trees have some of the same parameters as regression trees, but sometimes the names are a little different. The paramaters that you are most likely to want to tune are:\n",
    "  * `n_estimators`: This is the number of trees used for the final model. The more trees, the more likely the model is to overfit.\n",
    "  * `learning_rate`: This is a parameter that determines how much weight is given to each tree (this is sometimes referred to as $\\lambda$, pronounced lambda). The larger this number, the more likely the model is to overfit.\n",
    "  * `max_depth`: This is the same as `max_depth` for a regression tree.\n",
    "  * `min_split_loss`: This is the same as `min_impurity_decrease` for a regression tree.\n",
    "\n",
    "Other good references are available at https://xgboost.readthedocs.io/en/latest/index.html, https://xgboost.readthedocs.io/en/latest/python/python_api.html#module-xgboost.sklearn, and https://xgboost.readthedocs.io/en/latest/tutorials/model.html.\n",
    "\n",
    "<img src=\"images/gradient-boosted-regression-trees-632x238.png\" width=\"800\"/>"
   ]
  },
  {
   "cell_type": "code",
   "execution_count": 148,
   "metadata": {},
   "outputs": [
    {
     "data": {
      "text/html": [
       "<style type=\"text/css\">\n",
       "</style>\n",
       "<table id=\"T_87dbb\">\n",
       "  <thead>\n",
       "    <tr>\n",
       "      <th id=\"T_87dbb_level0_col0\" class=\"col_heading level0 col0\" >RMSE</th>\n",
       "      <th id=\"T_87dbb_level0_col1\" class=\"col_heading level0 col1\" >MAE</th>\n",
       "      <th id=\"T_87dbb_level0_col2\" class=\"col_heading level0 col2\" >R^2</th>\n",
       "      <th id=\"T_87dbb_level0_col3\" class=\"col_heading level0 col3\" >RMSLE</th>\n",
       "    </tr>\n",
       "  </thead>\n",
       "  <tbody>\n",
       "    <tr>\n",
       "      <td id=\"T_87dbb_row0_col0\" class=\"data row0 col0\" >34.698193</td>\n",
       "      <td id=\"T_87dbb_row0_col1\" class=\"data row0 col1\" >19.765194</td>\n",
       "      <td id=\"T_87dbb_row0_col2\" class=\"data row0 col2\" >0.946464</td>\n",
       "      <td id=\"T_87dbb_row0_col3\" class=\"data row0 col3\" >0.325256</td>\n",
       "    </tr>\n",
       "  </tbody>\n",
       "</table>\n"
      ],
      "text/plain": [
       "<pandas.io.formats.style.Styler at 0x7f220c54b410>"
      ]
     },
     "metadata": {},
     "output_type": "display_data"
    }
   ],
   "source": [
    "#param_rand  = {'n_estimators': [400, 500, 600],\n",
    " #             'max_features': [3, 4, 5],\n",
    "  #            'min_samples_leaf': [5, 6, 7]}\n",
    "\n",
    "#xgb_model_reg = GridSearchCV(XGBRegressor(ccp_alpha=10, random_state=201), param_grid=param_rand, cv=4, n_jobs=num_cpus)\n",
    "\n",
    "xgb_model_reg = XGBRegressor(max_depth=9,\n",
    "                         n_estimators = 55,\n",
    "                         learning_rate=.095,\n",
    "                         random_state=201)\n",
    "xgb_model_reg.fit(X_train_reg, y_train_reg)\n",
    "xgb_pred_reg = xgb_model_reg.predict(X_valid_reg)\n",
    "accuracy(y_valid_reg, xgb_pred_reg)"
   ]
  },
  {
   "cell_type": "code",
   "execution_count": 147,
   "metadata": {},
   "outputs": [
    {
     "data": {
      "text/html": [
       "<style type=\"text/css\">\n",
       "</style>\n",
       "<table id=\"T_43ca8\">\n",
       "  <thead>\n",
       "    <tr>\n",
       "      <th id=\"T_43ca8_level0_col0\" class=\"col_heading level0 col0\" >RMSE</th>\n",
       "      <th id=\"T_43ca8_level0_col1\" class=\"col_heading level0 col1\" >MAE</th>\n",
       "      <th id=\"T_43ca8_level0_col2\" class=\"col_heading level0 col2\" >R^2</th>\n",
       "      <th id=\"T_43ca8_level0_col3\" class=\"col_heading level0 col3\" >RMSLE</th>\n",
       "    </tr>\n",
       "  </thead>\n",
       "  <tbody>\n",
       "    <tr>\n",
       "      <td id=\"T_43ca8_row0_col0\" class=\"data row0 col0\" >19.066554</td>\n",
       "      <td id=\"T_43ca8_row0_col1\" class=\"data row0 col1\" >10.723814</td>\n",
       "      <td id=\"T_43ca8_row0_col2\" class=\"data row0 col2\" >0.852785</td>\n",
       "      <td id=\"T_43ca8_row0_col3\" class=\"data row0 col3\" >0.573028</td>\n",
       "    </tr>\n",
       "  </tbody>\n",
       "</table>\n"
      ],
      "text/plain": [
       "<pandas.io.formats.style.Styler at 0x7f220dfd4550>"
      ]
     },
     "metadata": {},
     "output_type": "display_data"
    }
   ],
   "source": [
    "xgb_model_cas = XGBRegressor(max_depth=9,\n",
    "                         n_estimators = 50,\n",
    "                         learning_rate=.1,\n",
    "                         random_state=201)\n",
    "xgb_model_cas.fit(X_train_cas, y_train_cas)\n",
    "xgb_pred_cas = xgb_model_cas.predict(X_valid_cas)\n",
    "accuracy(y_valid_cas, xgb_pred_cas)"
   ]
  },
  {
   "cell_type": "markdown",
   "metadata": {},
   "source": [
    "Get the unnormalized feature importance scores."
   ]
  },
  {
   "cell_type": "code",
   "execution_count": 129,
   "metadata": {},
   "outputs": [
    {
     "data": {
      "text/html": [
       "<div>\n",
       "<style scoped>\n",
       "    .dataframe tbody tr th:only-of-type {\n",
       "        vertical-align: middle;\n",
       "    }\n",
       "\n",
       "    .dataframe tbody tr th {\n",
       "        vertical-align: top;\n",
       "    }\n",
       "\n",
       "    .dataframe thead th {\n",
       "        text-align: right;\n",
       "    }\n",
       "</style>\n",
       "<table border=\"1\" class=\"dataframe\">\n",
       "  <thead>\n",
       "    <tr style=\"text-align: right;\">\n",
       "      <th></th>\n",
       "      <th>Importance</th>\n",
       "    </tr>\n",
       "  </thead>\n",
       "  <tbody>\n",
       "    <tr>\n",
       "      <th>hour</th>\n",
       "      <td>0.325429</td>\n",
       "    </tr>\n",
       "    <tr>\n",
       "      <th>workingday</th>\n",
       "      <td>0.287483</td>\n",
       "    </tr>\n",
       "    <tr>\n",
       "      <th>year</th>\n",
       "      <td>0.276042</td>\n",
       "    </tr>\n",
       "    <tr>\n",
       "      <th>month</th>\n",
       "      <td>0.042990</td>\n",
       "    </tr>\n",
       "    <tr>\n",
       "      <th>weather</th>\n",
       "      <td>0.027563</td>\n",
       "    </tr>\n",
       "    <tr>\n",
       "      <th>DOW</th>\n",
       "      <td>0.020242</td>\n",
       "    </tr>\n",
       "    <tr>\n",
       "      <th>atemp</th>\n",
       "      <td>0.016164</td>\n",
       "    </tr>\n",
       "    <tr>\n",
       "      <th>holiday</th>\n",
       "      <td>0.004087</td>\n",
       "    </tr>\n",
       "  </tbody>\n",
       "</table>\n",
       "</div>"
      ],
      "text/plain": [
       "            Importance\n",
       "hour          0.325429\n",
       "workingday    0.287483\n",
       "year          0.276042\n",
       "month         0.042990\n",
       "weather       0.027563\n",
       "DOW           0.020242\n",
       "atemp         0.016164\n",
       "holiday       0.004087"
      ]
     },
     "execution_count": 129,
     "metadata": {},
     "output_type": "execute_result"
    }
   ],
   "source": [
    "get_tree_importances(xgb_model_reg, X_train_reg)"
   ]
  },
  {
   "cell_type": "code",
   "execution_count": 130,
   "metadata": {},
   "outputs": [
    {
     "data": {
      "text/html": [
       "<div>\n",
       "<style scoped>\n",
       "    .dataframe tbody tr th:only-of-type {\n",
       "        vertical-align: middle;\n",
       "    }\n",
       "\n",
       "    .dataframe tbody tr th {\n",
       "        vertical-align: top;\n",
       "    }\n",
       "\n",
       "    .dataframe thead th {\n",
       "        text-align: right;\n",
       "    }\n",
       "</style>\n",
       "<table border=\"1\" class=\"dataframe\">\n",
       "  <thead>\n",
       "    <tr style=\"text-align: right;\">\n",
       "      <th></th>\n",
       "      <th>Importance</th>\n",
       "    </tr>\n",
       "  </thead>\n",
       "  <tbody>\n",
       "    <tr>\n",
       "      <th>workingday</th>\n",
       "      <td>0.566356</td>\n",
       "    </tr>\n",
       "    <tr>\n",
       "      <th>hour</th>\n",
       "      <td>0.190706</td>\n",
       "    </tr>\n",
       "    <tr>\n",
       "      <th>atemp</th>\n",
       "      <td>0.123237</td>\n",
       "    </tr>\n",
       "    <tr>\n",
       "      <th>DOW</th>\n",
       "      <td>0.051591</td>\n",
       "    </tr>\n",
       "    <tr>\n",
       "      <th>weather</th>\n",
       "      <td>0.027207</td>\n",
       "    </tr>\n",
       "    <tr>\n",
       "      <th>humidity</th>\n",
       "      <td>0.024190</td>\n",
       "    </tr>\n",
       "    <tr>\n",
       "      <th>windspeed</th>\n",
       "      <td>0.014462</td>\n",
       "    </tr>\n",
       "    <tr>\n",
       "      <th>holiday</th>\n",
       "      <td>0.002251</td>\n",
       "    </tr>\n",
       "  </tbody>\n",
       "</table>\n",
       "</div>"
      ],
      "text/plain": [
       "            Importance\n",
       "workingday    0.566356\n",
       "hour          0.190706\n",
       "atemp         0.123237\n",
       "DOW           0.051591\n",
       "weather       0.027207\n",
       "humidity      0.024190\n",
       "windspeed     0.014462\n",
       "holiday       0.002251"
      ]
     },
     "execution_count": 130,
     "metadata": {},
     "output_type": "execute_result"
    }
   ],
   "source": [
    "get_tree_importances(xgb_model_cas, X_train_cas)"
   ]
  },
  {
   "cell_type": "code",
   "execution_count": 131,
   "metadata": {},
   "outputs": [
    {
     "data": {
      "image/png": "[encoded data removed]",
      "text/plain": [
       "<Figure size 600x600 with 1 Axes>"
      ]
     },
     "metadata": {},
     "output_type": "display_data"
    }
   ],
   "source": [
    "plt.figure(figsize=(6,6))\n",
    "plt.scatter(xgb_pred, y_valid, s = 0.2)\n",
    "plt.xlim(-100, 1200)\n",
    "plt.ylim(-100, 1200)\n",
    "plt.plot([-100, 1200], [-100, 1200], color='r', linestyle='-', linewidth=2)\n",
    "plt.suptitle('Predicted vs Actual', fontsize=20)\n",
    "plt.xlabel('xgb_pred', fontsize=18)\n",
    "plt.ylabel('y_valid', fontsize=18)\n",
    "plt.show()"
   ]
  },
  {
   "cell_type": "markdown",
   "metadata": {},
   "source": [
    "What is the accuracy of the boosted tree?"
   ]
  },
  {
   "cell_type": "code",
   "execution_count": 133,
   "metadata": {},
   "outputs": [
    {
     "data": {
      "text/html": [
       "<style type=\"text/css\">\n",
       "</style>\n",
       "<table id=\"T_cf0bf\">\n",
       "  <thead>\n",
       "    <tr>\n",
       "      <th id=\"T_cf0bf_level0_col0\" class=\"col_heading level0 col0\" >RMSE</th>\n",
       "      <th id=\"T_cf0bf_level0_col1\" class=\"col_heading level0 col1\" >MAE</th>\n",
       "      <th id=\"T_cf0bf_level0_col2\" class=\"col_heading level0 col2\" >R^2</th>\n",
       "      <th id=\"T_cf0bf_level0_col3\" class=\"col_heading level0 col3\" >RMSLE</th>\n",
       "    </tr>\n",
       "  </thead>\n",
       "  <tbody>\n",
       "    <tr>\n",
       "      <td id=\"T_cf0bf_row0_col0\" class=\"data row0 col0\" >42.611538</td>\n",
       "      <td id=\"T_cf0bf_row0_col1\" class=\"data row0 col1\" >25.115194</td>\n",
       "      <td id=\"T_cf0bf_row0_col2\" class=\"data row0 col2\" >0.944146</td>\n",
       "      <td id=\"T_cf0bf_row0_col3\" class=\"data row0 col3\" >0.328938</td>\n",
       "    </tr>\n",
       "  </tbody>\n",
       "</table>\n"
      ],
      "text/plain": [
       "<pandas.io.formats.style.Styler at 0x7f220e247ad0>"
      ]
     },
     "metadata": {},
     "output_type": "display_data"
    }
   ],
   "source": [
    "#accuracy(y_valid, xgb_pred)\n",
    "\n",
    "xgb_pred = xgb_pred_cas + xgb_pred_reg\n",
    "accuracy(y_valid, xgb_pred)"
   ]
  },
  {
   "cell_type": "markdown",
   "metadata": {},
   "source": [
    "## Advanced Topic - Saving Your Model for Later"
   ]
  },
  {
   "cell_type": "markdown",
   "metadata": {},
   "source": [
    "Particularly when you have spent a long time searching for the optimal parameters, it can be computationally prohibitive to need to re-run the model everytime that you want to use the model. This is especially true when you may want to train a few different models in order to ensemble them. In order to avoid having to retrain the models, we can save the models for later. In python, this is called \"pickling\". We use a package called `dill` to \"pickle\" things in python (programmers tend to be a little cheeky). We can pickle the `rt_model_retrain` that we fitted above using the below code."
   ]
  },
  {
   "cell_type": "code",
   "execution_count": null,
   "metadata": {},
   "outputs": [],
   "source": [
    "with open(\"rt_model_retrain_pickled.pkl\", 'wb') as f:\n",
    "    dill.dump(rt_model_retrain, f)"
   ]
  },
  {
   "cell_type": "markdown",
   "metadata": {},
   "source": [
    "Now anytime that we want to use the model again, we can just load it from the file (assuming we've already imported pickle) using the below code."
   ]
  },
  {
   "cell_type": "code",
   "execution_count": null,
   "metadata": {},
   "outputs": [],
   "source": [
    "with open(\"rt_model_retrain_pickled.pkl\", 'rb') as f:\n",
    "    rt_model_reloaded = dill.load(f)"
   ]
  },
  {
   "cell_type": "markdown",
   "metadata": {},
   "source": [
    "The `with open(\"rt_model_retrain_pickled.pkl\", 'rb') as f:` code just means that we want python to read (that's the `r`) a binary file (a file with just `0`s and `1`s, which is indicated by the `b`) called `\"rt_model_retrain_pickled.pkl\"` and we'll refer to that file as `f`. The `with` part just means to only keep the file open while we run the indented piece of code, and then to close the file. When we are pickling instead of reading, we use a `w` instead of `r` to indicate that we want to write instead of read."
   ]
  },
  {
   "cell_type": "markdown",
   "metadata": {},
   "source": [
    "We can then check and make sure it worked by trying to predict on the validation data after loading in the model."
   ]
  },
  {
   "cell_type": "code",
   "execution_count": null,
   "metadata": {},
   "outputs": [],
   "source": [
    "rt_model_reloaded.predict(X_valid)"
   ]
  },
  {
   "cell_type": "code",
   "execution_count": null,
   "metadata": {},
   "outputs": [],
   "source": [
    "rt_model_retrain.predict(X_valid)"
   ]
  },
  {
   "cell_type": "markdown",
   "metadata": {},
   "source": [
    "Since both gives us the same thing, we succesfully pickled and loaded the model from a file. You may not ever need to use this for this class, but it is a trick that is good to know in case you find yourself training a model that takes a really long time and you'd like to avoid having to retrain it."
   ]
  },
  {
   "cell_type": "markdown",
   "metadata": {},
   "source": [
    "## Make predictions in the testing set"
   ]
  },
  {
   "cell_type": "code",
   "execution_count": null,
   "metadata": {},
   "outputs": [],
   "source": [
    "#prediction accuracy check for all models consolidated here\n",
    "#random forest\n",
    "accuracy(y_valid, rf_pred)\n",
    "#boosted trees\n",
    "accuracy(y_valid, xgb_pred)\n",
    "#ensembled model\n",
    "ens_pred = (rf_pred + xgb_pred) / 2\n",
    "accuracy(y_valid, ens_pred)"
   ]
  },
  {
   "cell_type": "markdown",
   "metadata": {},
   "source": [
    "Once you have chosen a model (including determining which parameters to use for the model) or models (in the case you intend to ensemble different models), it is time to retrain the model on the original training set. This allows you to use all of the data possible to build the best model. Note that you should do this after you have chosen your parameters using the validation set. For this block of code, I'm going to assume that you are going to go with the boosted trees model (parameters `max_depth=6, n_estimators = 50, learning_rate=.1`) we trained above ensembled with the regression tree model we tuned with `GridSearchCV` (optimal parameters found were `max_features=.5, max_depth=15, min_impurity_decrease=0.01, min_samples_split=10`). First, we will train models with those parameters, and then we will predict on the test data."
   ]
  },
  {
   "cell_type": "code",
   "execution_count": 134,
   "metadata": {},
   "outputs": [
    {
     "data": {
      "text/html": [
       "<style>#sk-container-id-2 {\n",
       "  /* Definition of color scheme common for light and dark mode */\n",
       "  --sklearn-color-text: black;\n",
       "  --sklearn-color-line: gray;\n",
       "  /* Definition of color scheme for unfitted estimators */\n",
       "  --sklearn-color-unfitted-level-0: #fff5e6;\n",
       "  --sklearn-color-unfitted-level-1: #f6e4d2;\n",
       "  --sklearn-color-unfitted-level-2: #ffe0b3;\n",
       "  --sklearn-color-unfitted-level-3: chocolate;\n",
       "  /* Definition of color scheme for fitted estimators */\n",
       "  --sklearn-color-fitted-level-0: #f0f8ff;\n",
       "  --sklearn-color-fitted-level-1: #d4ebff;\n",
       "  --sklearn-color-fitted-level-2: #b3dbfd;\n",
       "  --sklearn-color-fitted-level-3: cornflowerblue;\n",
       "\n",
       "  /* Specific color for light theme */\n",
       "  --sklearn-color-text-on-default-background: var(--sg-text-color, var(--theme-code-foreground, var(--jp-content-font-color1, black)));\n",
       "  --sklearn-color-background: var(--sg-background-color, var(--theme-background, var(--jp-layout-color0, white)));\n",
       "  --sklearn-color-border-box: var(--sg-text-color, var(--theme-code-foreground, var(--jp-content-font-color1, black)));\n",
       "  --sklearn-color-icon: #696969;\n",
       "\n",
       "  @media (prefers-color-scheme: dark) {\n",
       "    /* Redefinition of color scheme for dark theme */\n",
       "    --sklearn-color-text-on-default-background: var(--sg-text-color, var(--theme-code-foreground, var(--jp-content-font-color1, white)));\n",
       "    --sklearn-color-background: var(--sg-background-color, var(--theme-background, var(--jp-layout-color0, #111)));\n",
       "    --sklearn-color-border-box: var(--sg-text-color, var(--theme-code-foreground, var(--jp-content-font-color1, white)));\n",
       "    --sklearn-color-icon: #878787;\n",
       "  }\n",
       "}\n",
       "\n",
       "#sk-container-id-2 {\n",
       "  color: var(--sklearn-color-text);\n",
       "}\n",
       "\n",
       "#sk-container-id-2 pre {\n",
       "  padding: 0;\n",
       "}\n",
       "\n",
       "#sk-container-id-2 input.sk-hidden--visually {\n",
       "  border: 0;\n",
       "  clip: rect(1px 1px 1px 1px);\n",
       "  clip: rect(1px, 1px, 1px, 1px);\n",
       "  height: 1px;\n",
       "  margin: -1px;\n",
       "  overflow: hidden;\n",
       "  padding: 0;\n",
       "  position: absolute;\n",
       "  width: 1px;\n",
       "}\n",
       "\n",
       "#sk-container-id-2 div.sk-dashed-wrapped {\n",
       "  border: 1px dashed var(--sklearn-color-line);\n",
       "  margin: 0 0.4em 0.5em 0.4em;\n",
       "  box-sizing: border-box;\n",
       "  padding-bottom: 0.4em;\n",
       "  background-color: var(--sklearn-color-background);\n",
       "}\n",
       "\n",
       "#sk-container-id-2 div.sk-container {\n",
       "  /* jupyter's `normalize.less` sets `[hidden] { display: none; }`\n",
       "     but bootstrap.min.css set `[hidden] { display: none !important; }`\n",
       "     so we also need the `!important` here to be able to override the\n",
       "     default hidden behavior on the sphinx rendered scikit-learn.org.\n",
       "     See: https://github.com/scikit-learn/scikit-learn/issues/21755 */\n",
       "  display: inline-block !important;\n",
       "  position: relative;\n",
       "}\n",
       "\n",
       "#sk-container-id-2 div.sk-text-repr-fallback {\n",
       "  display: none;\n",
       "}\n",
       "\n",
       "div.sk-parallel-item,\n",
       "div.sk-serial,\n",
       "div.sk-item {\n",
       "  /* draw centered vertical line to link estimators */\n",
       "  background-image: linear-gradient(var(--sklearn-color-text-on-default-background), var(--sklearn-color-text-on-default-background));\n",
       "  background-size: 2px 100%;\n",
       "  background-repeat: no-repeat;\n",
       "  background-position: center center;\n",
       "}\n",
       "\n",
       "/* Parallel-specific style estimator block */\n",
       "\n",
       "#sk-container-id-2 div.sk-parallel-item::after {\n",
       "  content: \"\";\n",
       "  width: 100%;\n",
       "  border-bottom: 2px solid var(--sklearn-color-text-on-default-background);\n",
       "  flex-grow: 1;\n",
       "}\n",
       "\n",
       "#sk-container-id-2 div.sk-parallel {\n",
       "  display: flex;\n",
       "  align-items: stretch;\n",
       "  justify-content: center;\n",
       "  background-color: var(--sklearn-color-background);\n",
       "  position: relative;\n",
       "}\n",
       "\n",
       "#sk-container-id-2 div.sk-parallel-item {\n",
       "  display: flex;\n",
       "  flex-direction: column;\n",
       "}\n",
       "\n",
       "#sk-container-id-2 div.sk-parallel-item:first-child::after {\n",
       "  align-self: flex-end;\n",
       "  width: 50%;\n",
       "}\n",
       "\n",
       "#sk-container-id-2 div.sk-parallel-item:last-child::after {\n",
       "  align-self: flex-start;\n",
       "  width: 50%;\n",
       "}\n",
       "\n",
       "#sk-container-id-2 div.sk-parallel-item:only-child::after {\n",
       "  width: 0;\n",
       "}\n",
       "\n",
       "/* Serial-specific style estimator block */\n",
       "\n",
       "#sk-container-id-2 div.sk-serial {\n",
       "  display: flex;\n",
       "  flex-direction: column;\n",
       "  align-items: center;\n",
       "  background-color: var(--sklearn-color-background);\n",
       "  padding-right: 1em;\n",
       "  padding-left: 1em;\n",
       "}\n",
       "\n",
       "\n",
       "/* Toggleable style: style used for estimator/Pipeline/ColumnTransformer box that is\n",
       "clickable and can be expanded/collapsed.\n",
       "- Pipeline and ColumnTransformer use this feature and define the default style\n",
       "- Estimators will overwrite some part of the style using the `sk-estimator` class\n",
       "*/\n",
       "\n",
       "/* Pipeline and ColumnTransformer style (default) */\n",
       "\n",
       "#sk-container-id-2 div.sk-toggleable {\n",
       "  /* Default theme specific background. It is overwritten whether we have a\n",
       "  specific estimator or a Pipeline/ColumnTransformer */\n",
       "  background-color: var(--sklearn-color-background);\n",
       "}\n",
       "\n",
       "/* Toggleable label */\n",
       "#sk-container-id-2 label.sk-toggleable__label {\n",
       "  cursor: pointer;\n",
       "  display: block;\n",
       "  width: 100%;\n",
       "  margin-bottom: 0;\n",
       "  padding: 0.5em;\n",
       "  box-sizing: border-box;\n",
       "  text-align: center;\n",
       "}\n",
       "\n",
       "#sk-container-id-2 label.sk-toggleable__label-arrow:before {\n",
       "  /* Arrow on the left of the label */\n",
       "  content: \"▸\";\n",
       "  float: left;\n",
       "  margin-right: 0.25em;\n",
       "  color: var(--sklearn-color-icon);\n",
       "}\n",
       "\n",
       "#sk-container-id-2 label.sk-toggleable__label-arrow:hover:before {\n",
       "  color: var(--sklearn-color-text);\n",
       "}\n",
       "\n",
       "/* Toggleable content - dropdown */\n",
       "\n",
       "#sk-container-id-2 div.sk-toggleable__content {\n",
       "  max-height: 0;\n",
       "  max-width: 0;\n",
       "  overflow: hidden;\n",
       "  text-align: left;\n",
       "  /* unfitted */\n",
       "  background-color: var(--sklearn-color-unfitted-level-0);\n",
       "}\n",
       "\n",
       "#sk-container-id-2 div.sk-toggleable__content.fitted {\n",
       "  /* fitted */\n",
       "  background-color: var(--sklearn-color-fitted-level-0);\n",
       "}\n",
       "\n",
       "#sk-container-id-2 div.sk-toggleable__content pre {\n",
       "  margin: 0.2em;\n",
       "  border-radius: 0.25em;\n",
       "  color: var(--sklearn-color-text);\n",
       "  /* unfitted */\n",
       "  background-color: var(--sklearn-color-unfitted-level-0);\n",
       "}\n",
       "\n",
       "#sk-container-id-2 div.sk-toggleable__content.fitted pre {\n",
       "  /* unfitted */\n",
       "  background-color: var(--sklearn-color-fitted-level-0);\n",
       "}\n",
       "\n",
       "#sk-container-id-2 input.sk-toggleable__control:checked~div.sk-toggleable__content {\n",
       "  /* Expand drop-down */\n",
       "  max-height: 200px;\n",
       "  max-width: 100%;\n",
       "  overflow: auto;\n",
       "}\n",
       "\n",
       "#sk-container-id-2 input.sk-toggleable__control:checked~label.sk-toggleable__label-arrow:before {\n",
       "  content: \"▾\";\n",
       "}\n",
       "\n",
       "/* Pipeline/ColumnTransformer-specific style */\n",
       "\n",
       "#sk-container-id-2 div.sk-label input.sk-toggleable__control:checked~label.sk-toggleable__label {\n",
       "  color: var(--sklearn-color-text);\n",
       "  background-color: var(--sklearn-color-unfitted-level-2);\n",
       "}\n",
       "\n",
       "#sk-container-id-2 div.sk-label.fitted input.sk-toggleable__control:checked~label.sk-toggleable__label {\n",
       "  background-color: var(--sklearn-color-fitted-level-2);\n",
       "}\n",
       "\n",
       "/* Estimator-specific style */\n",
       "\n",
       "/* Colorize estimator box */\n",
       "#sk-container-id-2 div.sk-estimator input.sk-toggleable__control:checked~label.sk-toggleable__label {\n",
       "  /* unfitted */\n",
       "  background-color: var(--sklearn-color-unfitted-level-2);\n",
       "}\n",
       "\n",
       "#sk-container-id-2 div.sk-estimator.fitted input.sk-toggleable__control:checked~label.sk-toggleable__label {\n",
       "  /* fitted */\n",
       "  background-color: var(--sklearn-color-fitted-level-2);\n",
       "}\n",
       "\n",
       "#sk-container-id-2 div.sk-label label.sk-toggleable__label,\n",
       "#sk-container-id-2 div.sk-label label {\n",
       "  /* The background is the default theme color */\n",
       "  color: var(--sklearn-color-text-on-default-background);\n",
       "}\n",
       "\n",
       "/* On hover, darken the color of the background */\n",
       "#sk-container-id-2 div.sk-label:hover label.sk-toggleable__label {\n",
       "  color: var(--sklearn-color-text);\n",
       "  background-color: var(--sklearn-color-unfitted-level-2);\n",
       "}\n",
       "\n",
       "/* Label box, darken color on hover, fitted */\n",
       "#sk-container-id-2 div.sk-label.fitted:hover label.sk-toggleable__label.fitted {\n",
       "  color: var(--sklearn-color-text);\n",
       "  background-color: var(--sklearn-color-fitted-level-2);\n",
       "}\n",
       "\n",
       "/* Estimator label */\n",
       "\n",
       "#sk-container-id-2 div.sk-label label {\n",
       "  font-family: monospace;\n",
       "  font-weight: bold;\n",
       "  display: inline-block;\n",
       "  line-height: 1.2em;\n",
       "}\n",
       "\n",
       "#sk-container-id-2 div.sk-label-container {\n",
       "  text-align: center;\n",
       "}\n",
       "\n",
       "/* Estimator-specific */\n",
       "#sk-container-id-2 div.sk-estimator {\n",
       "  font-family: monospace;\n",
       "  border: 1px dotted var(--sklearn-color-border-box);\n",
       "  border-radius: 0.25em;\n",
       "  box-sizing: border-box;\n",
       "  margin-bottom: 0.5em;\n",
       "  /* unfitted */\n",
       "  background-color: var(--sklearn-color-unfitted-level-0);\n",
       "}\n",
       "\n",
       "#sk-container-id-2 div.sk-estimator.fitted {\n",
       "  /* fitted */\n",
       "  background-color: var(--sklearn-color-fitted-level-0);\n",
       "}\n",
       "\n",
       "/* on hover */\n",
       "#sk-container-id-2 div.sk-estimator:hover {\n",
       "  /* unfitted */\n",
       "  background-color: var(--sklearn-color-unfitted-level-2);\n",
       "}\n",
       "\n",
       "#sk-container-id-2 div.sk-estimator.fitted:hover {\n",
       "  /* fitted */\n",
       "  background-color: var(--sklearn-color-fitted-level-2);\n",
       "}\n",
       "\n",
       "/* Specification for estimator info (e.g. \"i\" and \"?\") */\n",
       "\n",
       "/* Common style for \"i\" and \"?\" */\n",
       "\n",
       ".sk-estimator-doc-link,\n",
       "a:link.sk-estimator-doc-link,\n",
       "a:visited.sk-estimator-doc-link {\n",
       "  float: right;\n",
       "  font-size: smaller;\n",
       "  line-height: 1em;\n",
       "  font-family: monospace;\n",
       "  background-color: var(--sklearn-color-background);\n",
       "  border-radius: 1em;\n",
       "  height: 1em;\n",
       "  width: 1em;\n",
       "  text-decoration: none !important;\n",
       "  margin-left: 1ex;\n",
       "  /* unfitted */\n",
       "  border: var(--sklearn-color-unfitted-level-1) 1pt solid;\n",
       "  color: var(--sklearn-color-unfitted-level-1);\n",
       "}\n",
       "\n",
       ".sk-estimator-doc-link.fitted,\n",
       "a:link.sk-estimator-doc-link.fitted,\n",
       "a:visited.sk-estimator-doc-link.fitted {\n",
       "  /* fitted */\n",
       "  border: var(--sklearn-color-fitted-level-1) 1pt solid;\n",
       "  color: var(--sklearn-color-fitted-level-1);\n",
       "}\n",
       "\n",
       "/* On hover */\n",
       "div.sk-estimator:hover .sk-estimator-doc-link:hover,\n",
       ".sk-estimator-doc-link:hover,\n",
       "div.sk-label-container:hover .sk-estimator-doc-link:hover,\n",
       ".sk-estimator-doc-link:hover {\n",
       "  /* unfitted */\n",
       "  background-color: var(--sklearn-color-unfitted-level-3);\n",
       "  color: var(--sklearn-color-background);\n",
       "  text-decoration: none;\n",
       "}\n",
       "\n",
       "div.sk-estimator.fitted:hover .sk-estimator-doc-link.fitted:hover,\n",
       ".sk-estimator-doc-link.fitted:hover,\n",
       "div.sk-label-container:hover .sk-estimator-doc-link.fitted:hover,\n",
       ".sk-estimator-doc-link.fitted:hover {\n",
       "  /* fitted */\n",
       "  background-color: var(--sklearn-color-fitted-level-3);\n",
       "  color: var(--sklearn-color-background);\n",
       "  text-decoration: none;\n",
       "}\n",
       "\n",
       "/* Span, style for the box shown on hovering the info icon */\n",
       ".sk-estimator-doc-link span {\n",
       "  display: none;\n",
       "  z-index: 9999;\n",
       "  position: relative;\n",
       "  font-weight: normal;\n",
       "  right: .2ex;\n",
       "  padding: .5ex;\n",
       "  margin: .5ex;\n",
       "  width: min-content;\n",
       "  min-width: 20ex;\n",
       "  max-width: 50ex;\n",
       "  color: var(--sklearn-color-text);\n",
       "  box-shadow: 2pt 2pt 4pt #999;\n",
       "  /* unfitted */\n",
       "  background: var(--sklearn-color-unfitted-level-0);\n",
       "  border: .5pt solid var(--sklearn-color-unfitted-level-3);\n",
       "}\n",
       "\n",
       ".sk-estimator-doc-link.fitted span {\n",
       "  /* fitted */\n",
       "  background: var(--sklearn-color-fitted-level-0);\n",
       "  border: var(--sklearn-color-fitted-level-3);\n",
       "}\n",
       "\n",
       ".sk-estimator-doc-link:hover span {\n",
       "  display: block;\n",
       "}\n",
       "\n",
       "/* \"?\"-specific style due to the `<a>` HTML tag */\n",
       "\n",
       "#sk-container-id-2 a.estimator_doc_link {\n",
       "  float: right;\n",
       "  font-size: 1rem;\n",
       "  line-height: 1em;\n",
       "  font-family: monospace;\n",
       "  background-color: var(--sklearn-color-background);\n",
       "  border-radius: 1rem;\n",
       "  height: 1rem;\n",
       "  width: 1rem;\n",
       "  text-decoration: none;\n",
       "  /* unfitted */\n",
       "  color: var(--sklearn-color-unfitted-level-1);\n",
       "  border: var(--sklearn-color-unfitted-level-1) 1pt solid;\n",
       "}\n",
       "\n",
       "#sk-container-id-2 a.estimator_doc_link.fitted {\n",
       "  /* fitted */\n",
       "  border: var(--sklearn-color-fitted-level-1) 1pt solid;\n",
       "  color: var(--sklearn-color-fitted-level-1);\n",
       "}\n",
       "\n",
       "/* On hover */\n",
       "#sk-container-id-2 a.estimator_doc_link:hover {\n",
       "  /* unfitted */\n",
       "  background-color: var(--sklearn-color-unfitted-level-3);\n",
       "  color: var(--sklearn-color-background);\n",
       "  text-decoration: none;\n",
       "}\n",
       "\n",
       "#sk-container-id-2 a.estimator_doc_link.fitted:hover {\n",
       "  /* fitted */\n",
       "  background-color: var(--sklearn-color-fitted-level-3);\n",
       "}\n",
       "</style><div id=\"sk-container-id-2\" class=\"sk-top-container\"><div class=\"sk-text-repr-fallback\"><pre>XGBRegressor(base_score=None, booster=None, callbacks=None,\n",
       "             colsample_bylevel=None, colsample_bynode=None,\n",
       "             colsample_bytree=None, device=None, early_stopping_rounds=None,\n",
       "             enable_categorical=False, eval_metric=None, feature_types=None,\n",
       "             gamma=None, grow_policy=None, importance_type=None,\n",
       "             interaction_constraints=None, learning_rate=0.095, max_bin=None,\n",
       "             max_cat_threshold=None, max_cat_to_onehot=None,\n",
       "             max_delta_step=None, max_depth=9, max_leaves=None,\n",
       "             min_child_weight=None, missing=nan, monotone_constraints=None,\n",
       "             multi_strategy=None, n_estimators=50, n_jobs=None,\n",
       "             num_parallel_tree=None, random_state=201, ...)</pre><b>In a Jupyter environment, please rerun this cell to show the HTML representation or trust the notebook. <br />On GitHub, the HTML representation is unable to render, please try loading this page with nbviewer.org.</b></div><div class=\"sk-container\" hidden><div class=\"sk-item\"><div class=\"sk-estimator fitted sk-toggleable\"><input class=\"sk-toggleable__control sk-hidden--visually\" id=\"sk-estimator-id-2\" type=\"checkbox\" checked><label for=\"sk-estimator-id-2\" class=\"sk-toggleable__label fitted sk-toggleable__label-arrow fitted\">&nbsp;XGBRegressor<span class=\"sk-estimator-doc-link fitted\">i<span>Fitted</span></span></label><div class=\"sk-toggleable__content fitted\"><pre>XGBRegressor(base_score=None, booster=None, callbacks=None,\n",
       "             colsample_bylevel=None, colsample_bynode=None,\n",
       "             colsample_bytree=None, device=None, early_stopping_rounds=None,\n",
       "             enable_categorical=False, eval_metric=None, feature_types=None,\n",
       "             gamma=None, grow_policy=None, importance_type=None,\n",
       "             interaction_constraints=None, learning_rate=0.095, max_bin=None,\n",
       "             max_cat_threshold=None, max_cat_to_onehot=None,\n",
       "             max_delta_step=None, max_depth=9, max_leaves=None,\n",
       "             min_child_weight=None, missing=nan, monotone_constraints=None,\n",
       "             multi_strategy=None, n_estimators=50, n_jobs=None,\n",
       "             num_parallel_tree=None, random_state=201, ...)</pre></div> </div></div></div></div>"
      ],
      "text/plain": [
       "XGBRegressor(base_score=None, booster=None, callbacks=None,\n",
       "             colsample_bylevel=None, colsample_bynode=None,\n",
       "             colsample_bytree=None, device=None, early_stopping_rounds=None,\n",
       "             enable_categorical=False, eval_metric=None, feature_types=None,\n",
       "             gamma=None, grow_policy=None, importance_type=None,\n",
       "             interaction_constraints=None, learning_rate=0.095, max_bin=None,\n",
       "             max_cat_threshold=None, max_cat_to_onehot=None,\n",
       "             max_delta_step=None, max_depth=9, max_leaves=None,\n",
       "             min_child_weight=None, missing=nan, monotone_constraints=None,\n",
       "             multi_strategy=None, n_estimators=50, n_jobs=None,\n",
       "             num_parallel_tree=None, random_state=201, ...)"
      ]
     },
     "execution_count": 134,
     "metadata": {},
     "output_type": "execute_result"
    }
   ],
   "source": [
    "xgb_model_reg_final = XGBRegressor(max_depth=9,\n",
    "                         n_estimators = 55,\n",
    "                         learning_rate=.095,\n",
    "                         random_state=201)\n",
    "\n",
    "xgb_model_reg_final.fit(X_orig_train_reg, y_orig_train_reg)\n",
    "\n",
    "xgb_model_cas_final = XGBRegressor(max_depth=9,\n",
    "                         n_estimators = 50,\n",
    "                         learning_rate=.095,\n",
    "                         random_state=201)\n",
    "\n",
    "xgb_model_cas_final.fit(X_orig_train_cas, y_orig_train_cas)"
   ]
  },
  {
   "cell_type": "markdown",
   "metadata": {},
   "source": [
    "Now we can predict on the testing set."
   ]
  },
  {
   "cell_type": "code",
   "execution_count": 135,
   "metadata": {},
   "outputs": [],
   "source": [
    "xgb_final_pred_reg = xgb_model_reg_final.predict(X_test_reg)\n",
    "xgb_final_pred_cas = xgb_model_cas_final.predict(X_test_cas)"
   ]
  },
  {
   "cell_type": "markdown",
   "metadata": {},
   "source": [
    "Once we have our predictions we can ensemble them. There are lots of ways to do this, but if we just want to average the two models, it is enough to just add the predictions together and divide by 2 (since this is all an average is). Before we average them, we'll make sure that our predictions are above 0 by clipping them with the `.clip()` method. If we accidentally predict something below 0, it can mess up the RMSLE (since you can't put a negative number into a log function). All clip does is it takes any number in the series below 0 and sets it to 0. Since we are predicting counts of bike riders, obviously negative numbers don't make sense. So, this is good practice when making final predictions when you are going to be evaluated on RMSLE."
   ]
  },
  {
   "cell_type": "code",
   "execution_count": 136,
   "metadata": {},
   "outputs": [],
   "source": [
    "final_pred = xgb_final_pred_reg.clip(0) + xgb_final_pred_cas.clip(0)"
   ]
  },
  {
   "cell_type": "markdown",
   "metadata": {},
   "source": [
    "# Competition entries (write to csv)"
   ]
  },
  {
   "cell_type": "markdown",
   "metadata": {},
   "source": [
    "Finally, we need to prepare the Kaggle submission in the right format. We first read in the `sampleSubmission.csv` which we downloaded from Kaggle."
   ]
  },
  {
   "cell_type": "code",
   "execution_count": 137,
   "metadata": {},
   "outputs": [],
   "source": [
    "sample_submission = pd.read_csv('sampleSubmission.csv')"
   ]
  },
  {
   "cell_type": "code",
   "execution_count": 138,
   "metadata": {},
   "outputs": [
    {
     "data": {
      "text/html": [
       "<div>\n",
       "<style scoped>\n",
       "    .dataframe tbody tr th:only-of-type {\n",
       "        vertical-align: middle;\n",
       "    }\n",
       "\n",
       "    .dataframe tbody tr th {\n",
       "        vertical-align: top;\n",
       "    }\n",
       "\n",
       "    .dataframe thead th {\n",
       "        text-align: right;\n",
       "    }\n",
       "</style>\n",
       "<table border=\"1\" class=\"dataframe\">\n",
       "  <thead>\n",
       "    <tr style=\"text-align: right;\">\n",
       "      <th></th>\n",
       "      <th>datetime</th>\n",
       "      <th>count</th>\n",
       "    </tr>\n",
       "  </thead>\n",
       "  <tbody>\n",
       "    <tr>\n",
       "      <th>0</th>\n",
       "      <td>2011-01-20 00:00:00</td>\n",
       "      <td>0</td>\n",
       "    </tr>\n",
       "    <tr>\n",
       "      <th>1</th>\n",
       "      <td>2011-01-20 01:00:00</td>\n",
       "      <td>0</td>\n",
       "    </tr>\n",
       "    <tr>\n",
       "      <th>2</th>\n",
       "      <td>2011-01-20 02:00:00</td>\n",
       "      <td>0</td>\n",
       "    </tr>\n",
       "    <tr>\n",
       "      <th>3</th>\n",
       "      <td>2011-01-20 03:00:00</td>\n",
       "      <td>0</td>\n",
       "    </tr>\n",
       "    <tr>\n",
       "      <th>4</th>\n",
       "      <td>2011-01-20 04:00:00</td>\n",
       "      <td>0</td>\n",
       "    </tr>\n",
       "  </tbody>\n",
       "</table>\n",
       "</div>"
      ],
      "text/plain": [
       "              datetime  count\n",
       "0  2011-01-20 00:00:00      0\n",
       "1  2011-01-20 01:00:00      0\n",
       "2  2011-01-20 02:00:00      0\n",
       "3  2011-01-20 03:00:00      0\n",
       "4  2011-01-20 04:00:00      0"
      ]
     },
     "execution_count": 138,
     "metadata": {},
     "output_type": "execute_result"
    }
   ],
   "source": [
    "sample_submission.head()"
   ]
  },
  {
   "cell_type": "markdown",
   "metadata": {},
   "source": [
    "Note that the counts are all `0`. We will replace them with our predictions."
   ]
  },
  {
   "cell_type": "code",
   "execution_count": 139,
   "metadata": {},
   "outputs": [],
   "source": [
    "sample_submission['count'] = final_pred"
   ]
  },
  {
   "cell_type": "markdown",
   "metadata": {},
   "source": [
    "We can see that it worked."
   ]
  },
  {
   "cell_type": "code",
   "execution_count": 140,
   "metadata": {},
   "outputs": [
    {
     "data": {
      "text/html": [
       "<div>\n",
       "<style scoped>\n",
       "    .dataframe tbody tr th:only-of-type {\n",
       "        vertical-align: middle;\n",
       "    }\n",
       "\n",
       "    .dataframe tbody tr th {\n",
       "        vertical-align: top;\n",
       "    }\n",
       "\n",
       "    .dataframe thead th {\n",
       "        text-align: right;\n",
       "    }\n",
       "</style>\n",
       "<table border=\"1\" class=\"dataframe\">\n",
       "  <thead>\n",
       "    <tr style=\"text-align: right;\">\n",
       "      <th></th>\n",
       "      <th>datetime</th>\n",
       "      <th>count</th>\n",
       "    </tr>\n",
       "  </thead>\n",
       "  <tbody>\n",
       "    <tr>\n",
       "      <th>0</th>\n",
       "      <td>2011-01-20 00:00:00</td>\n",
       "      <td>13.092834</td>\n",
       "    </tr>\n",
       "    <tr>\n",
       "      <th>1</th>\n",
       "      <td>2011-01-20 01:00:00</td>\n",
       "      <td>7.934250</td>\n",
       "    </tr>\n",
       "    <tr>\n",
       "      <th>2</th>\n",
       "      <td>2011-01-20 02:00:00</td>\n",
       "      <td>3.855698</td>\n",
       "    </tr>\n",
       "    <tr>\n",
       "      <th>3</th>\n",
       "      <td>2011-01-20 03:00:00</td>\n",
       "      <td>3.863078</td>\n",
       "    </tr>\n",
       "    <tr>\n",
       "      <th>4</th>\n",
       "      <td>2011-01-20 04:00:00</td>\n",
       "      <td>3.748399</td>\n",
       "    </tr>\n",
       "  </tbody>\n",
       "</table>\n",
       "</div>"
      ],
      "text/plain": [
       "              datetime      count\n",
       "0  2011-01-20 00:00:00  13.092834\n",
       "1  2011-01-20 01:00:00   7.934250\n",
       "2  2011-01-20 02:00:00   3.855698\n",
       "3  2011-01-20 03:00:00   3.863078\n",
       "4  2011-01-20 04:00:00   3.748399"
      ]
     },
     "execution_count": 140,
     "metadata": {},
     "output_type": "execute_result"
    }
   ],
   "source": [
    "sample_submission.head()"
   ]
  },
  {
   "cell_type": "markdown",
   "metadata": {},
   "source": [
    "Now we will write these out to a csv file in the format that Kaggle expects. Note that if you open the submission file in excel and then save it, excel will mess something up and Kaggle will not accept the submission. If you open your submission file in excel to check what's in there, just be sure not to save it afterwards."
   ]
  },
  {
   "cell_type": "code",
   "execution_count": 141,
   "metadata": {},
   "outputs": [],
   "source": [
    "sample_submission.to_csv('finalSubmission.csv', index=False)"
   ]
  },
  {
   "cell_type": "markdown",
   "metadata": {},
   "source": [
    "Now that the competition has ended, it will not give you your rank on the leaderboard, but it will give you your score. Look through the leaderboard to find where you score would have ranked. Come to class with your rank on the Kaggle leaderboard!"
   ]
  }
 ],
 "metadata": {
  "anaconda-cloud": {},
  "kernelspec": {
   "display_name": "Python 3 (ipykernel)",
   "language": "python",
   "name": "python3"
  },
  "language_info": {
   "codemirror_mode": {
    "name": "ipython",
    "version": 3
   },
   "file_extension": ".py",
   "mimetype": "text/x-python",
   "name": "python",
   "nbconvert_exporter": "python",
   "pygments_lexer": "ipython3",
   "version": "3.11.9"
  }
 },
 "nbformat": 4,
 "nbformat_minor": 4
}
